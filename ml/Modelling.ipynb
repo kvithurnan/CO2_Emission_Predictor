{
 "cells": [
  {
   "cell_type": "markdown",
   "id": "a6413198",
   "metadata": {},
   "source": [
    "### Importing necessary libraries"
   ]
  },
  {
   "cell_type": "code",
   "execution_count": 1,
   "id": "94df287b",
   "metadata": {},
   "outputs": [],
   "source": [
    "import pandas as pd\n",
    "import numpy as np\n",
    "import matplotlib.pyplot as plt\n",
    "%matplotlib inline\n",
    "import seaborn as sns\n",
    "from sklearn.model_selection import train_test_split\n",
    "from sklearn.preprocessing import OneHotEncoder\n",
    "from sklearn.pipeline import Pipeline\n",
    "from sklearn import preprocessing\n",
    "from sklearn.compose import ColumnTransformer\n",
    "from sklearn.preprocessing import StandardScaler, PowerTransformer, FunctionTransformer\n",
    "from sklearn.model_selection import cross_val_score\n",
    "from sklearn.model_selection import GridSearchCV\n",
    "from xgboost import XGBRegressor\n",
    "from lightgbm import LGBMRegressor\n",
    "from sklearn.metrics import mean_squared_error, mean_absolute_error"
   ]
  },
  {
   "cell_type": "markdown",
   "id": "abefda97",
   "metadata": {},
   "source": [
    "### Loading dataframe"
   ]
  },
  {
   "cell_type": "code",
   "execution_count": 2,
   "id": "7835bb1b",
   "metadata": {},
   "outputs": [],
   "source": [
    "df = pd.read_csv(r'../data/CO2 Emissions_Canada.csv')"
   ]
  },
  {
   "cell_type": "code",
   "execution_count": 3,
   "id": "ab905889",
   "metadata": {},
   "outputs": [],
   "source": [
    "#Assigning object type to Cylinders column\n",
    "df['Cylinders'] = df['Cylinders'].astype('O')"
   ]
  },
  {
   "cell_type": "code",
   "execution_count": 4,
   "id": "2c35b284",
   "metadata": {},
   "outputs": [],
   "source": [
    "# Dropping unnecessary columns\n",
    "df.drop(['Fuel Consumption Comb (L/100 km)', 'Model'], axis = 1, inplace = True)"
   ]
  },
  {
   "cell_type": "code",
   "execution_count": 5,
   "id": "d66f3366",
   "metadata": {},
   "outputs": [
    {
     "name": "stdout",
     "output_type": "stream",
     "text": [
      "<class 'pandas.core.frame.DataFrame'>\n",
      "RangeIndex: 7385 entries, 0 to 7384\n",
      "Data columns (total 10 columns):\n",
      " #   Column                            Non-Null Count  Dtype  \n",
      "---  ------                            --------------  -----  \n",
      " 0   Make                              7385 non-null   object \n",
      " 1   Vehicle Class                     7385 non-null   object \n",
      " 2   Engine Size(L)                    7385 non-null   float64\n",
      " 3   Cylinders                         7385 non-null   object \n",
      " 4   Transmission                      7385 non-null   object \n",
      " 5   Fuel Type                         7385 non-null   object \n",
      " 6   Fuel Consumption City (L/100 km)  7385 non-null   float64\n",
      " 7   Fuel Consumption Hwy (L/100 km)   7385 non-null   float64\n",
      " 8   Fuel Consumption Comb (mpg)       7385 non-null   int64  \n",
      " 9   CO2 Emissions(g/km)               7385 non-null   int64  \n",
      "dtypes: float64(3), int64(2), object(5)\n",
      "memory usage: 577.1+ KB\n"
     ]
    }
   ],
   "source": [
    "df.info()"
   ]
  },
  {
   "cell_type": "code",
   "execution_count": 6,
   "id": "fc433faa",
   "metadata": {},
   "outputs": [],
   "source": [
    "#Getting the numerical, categorical and target columns\n",
    "cat_cols = ['Make', 'Vehicle Class', 'Cylinders', 'Transmission', 'Fuel Type']\n",
    "quan_cols = ['Engine Size(L)', 'Fuel Consumption City (L/100 km)', 'Fuel Consumption Hwy (L/100 km)', 'Fuel Consumption Comb (mpg)']\n",
    "target = ['CO2 Emissions(g/km)']"
   ]
  },
  {
   "cell_type": "markdown",
   "id": "4fb3ca3d",
   "metadata": {},
   "source": [
    "#### Getting all categories in categorical columns"
   ]
  },
  {
   "cell_type": "code",
   "execution_count": 7,
   "id": "ada5ccd4",
   "metadata": {},
   "outputs": [],
   "source": [
    "df_cat = df[cat_cols]"
   ]
  },
  {
   "cell_type": "code",
   "execution_count": 8,
   "id": "eedd54d9",
   "metadata": {},
   "outputs": [],
   "source": [
    "pre_ohe = OneHotEncoder(handle_unknown='ignore')"
   ]
  },
  {
   "cell_type": "code",
   "execution_count": 9,
   "id": "ecfa8de3",
   "metadata": {},
   "outputs": [
    {
     "data": {
      "text/plain": [
       "OneHotEncoder(handle_unknown='ignore')"
      ]
     },
     "execution_count": 9,
     "metadata": {},
     "output_type": "execute_result"
    }
   ],
   "source": [
    "pre_ohe.fit(df_cat)"
   ]
  },
  {
   "cell_type": "code",
   "execution_count": 10,
   "id": "8d7a3d89",
   "metadata": {},
   "outputs": [],
   "source": [
    "#Use for encoder in pipeline\n",
    "cat_col_categories = list(pre_ohe.categories_)"
   ]
  },
  {
   "cell_type": "markdown",
   "id": "93fcc760",
   "metadata": {},
   "source": [
    "#### Train test split"
   ]
  },
  {
   "cell_type": "code",
   "execution_count": 11,
   "id": "1607d198",
   "metadata": {},
   "outputs": [],
   "source": [
    "X = df.drop(target, axis = 1)\n",
    "y = df[target]"
   ]
  },
  {
   "cell_type": "code",
   "execution_count": 12,
   "id": "76b732ce",
   "metadata": {},
   "outputs": [
    {
     "data": {
      "text/html": [
       "<div>\n",
       "<style scoped>\n",
       "    .dataframe tbody tr th:only-of-type {\n",
       "        vertical-align: middle;\n",
       "    }\n",
       "\n",
       "    .dataframe tbody tr th {\n",
       "        vertical-align: top;\n",
       "    }\n",
       "\n",
       "    .dataframe thead th {\n",
       "        text-align: right;\n",
       "    }\n",
       "</style>\n",
       "<table border=\"1\" class=\"dataframe\">\n",
       "  <thead>\n",
       "    <tr style=\"text-align: right;\">\n",
       "      <th></th>\n",
       "      <th>Make</th>\n",
       "      <th>Vehicle Class</th>\n",
       "      <th>Engine Size(L)</th>\n",
       "      <th>Cylinders</th>\n",
       "      <th>Transmission</th>\n",
       "      <th>Fuel Type</th>\n",
       "      <th>Fuel Consumption City (L/100 km)</th>\n",
       "      <th>Fuel Consumption Hwy (L/100 km)</th>\n",
       "      <th>Fuel Consumption Comb (mpg)</th>\n",
       "    </tr>\n",
       "  </thead>\n",
       "  <tbody>\n",
       "    <tr>\n",
       "      <th>0</th>\n",
       "      <td>ACURA</td>\n",
       "      <td>COMPACT</td>\n",
       "      <td>2.0</td>\n",
       "      <td>4</td>\n",
       "      <td>AS5</td>\n",
       "      <td>Z</td>\n",
       "      <td>9.9</td>\n",
       "      <td>6.7</td>\n",
       "      <td>33</td>\n",
       "    </tr>\n",
       "    <tr>\n",
       "      <th>1</th>\n",
       "      <td>ACURA</td>\n",
       "      <td>COMPACT</td>\n",
       "      <td>2.4</td>\n",
       "      <td>4</td>\n",
       "      <td>M6</td>\n",
       "      <td>Z</td>\n",
       "      <td>11.2</td>\n",
       "      <td>7.7</td>\n",
       "      <td>29</td>\n",
       "    </tr>\n",
       "    <tr>\n",
       "      <th>2</th>\n",
       "      <td>ACURA</td>\n",
       "      <td>COMPACT</td>\n",
       "      <td>1.5</td>\n",
       "      <td>4</td>\n",
       "      <td>AV7</td>\n",
       "      <td>Z</td>\n",
       "      <td>6.0</td>\n",
       "      <td>5.8</td>\n",
       "      <td>48</td>\n",
       "    </tr>\n",
       "    <tr>\n",
       "      <th>3</th>\n",
       "      <td>ACURA</td>\n",
       "      <td>SUV - SMALL</td>\n",
       "      <td>3.5</td>\n",
       "      <td>6</td>\n",
       "      <td>AS6</td>\n",
       "      <td>Z</td>\n",
       "      <td>12.7</td>\n",
       "      <td>9.1</td>\n",
       "      <td>25</td>\n",
       "    </tr>\n",
       "    <tr>\n",
       "      <th>4</th>\n",
       "      <td>ACURA</td>\n",
       "      <td>SUV - SMALL</td>\n",
       "      <td>3.5</td>\n",
       "      <td>6</td>\n",
       "      <td>AS6</td>\n",
       "      <td>Z</td>\n",
       "      <td>12.1</td>\n",
       "      <td>8.7</td>\n",
       "      <td>27</td>\n",
       "    </tr>\n",
       "    <tr>\n",
       "      <th>...</th>\n",
       "      <td>...</td>\n",
       "      <td>...</td>\n",
       "      <td>...</td>\n",
       "      <td>...</td>\n",
       "      <td>...</td>\n",
       "      <td>...</td>\n",
       "      <td>...</td>\n",
       "      <td>...</td>\n",
       "      <td>...</td>\n",
       "    </tr>\n",
       "    <tr>\n",
       "      <th>7380</th>\n",
       "      <td>VOLVO</td>\n",
       "      <td>SUV - SMALL</td>\n",
       "      <td>2.0</td>\n",
       "      <td>4</td>\n",
       "      <td>AS8</td>\n",
       "      <td>Z</td>\n",
       "      <td>10.7</td>\n",
       "      <td>7.7</td>\n",
       "      <td>30</td>\n",
       "    </tr>\n",
       "    <tr>\n",
       "      <th>7381</th>\n",
       "      <td>VOLVO</td>\n",
       "      <td>SUV - SMALL</td>\n",
       "      <td>2.0</td>\n",
       "      <td>4</td>\n",
       "      <td>AS8</td>\n",
       "      <td>Z</td>\n",
       "      <td>11.2</td>\n",
       "      <td>8.3</td>\n",
       "      <td>29</td>\n",
       "    </tr>\n",
       "    <tr>\n",
       "      <th>7382</th>\n",
       "      <td>VOLVO</td>\n",
       "      <td>SUV - SMALL</td>\n",
       "      <td>2.0</td>\n",
       "      <td>4</td>\n",
       "      <td>AS8</td>\n",
       "      <td>Z</td>\n",
       "      <td>11.7</td>\n",
       "      <td>8.6</td>\n",
       "      <td>27</td>\n",
       "    </tr>\n",
       "    <tr>\n",
       "      <th>7383</th>\n",
       "      <td>VOLVO</td>\n",
       "      <td>SUV - STANDARD</td>\n",
       "      <td>2.0</td>\n",
       "      <td>4</td>\n",
       "      <td>AS8</td>\n",
       "      <td>Z</td>\n",
       "      <td>11.2</td>\n",
       "      <td>8.3</td>\n",
       "      <td>29</td>\n",
       "    </tr>\n",
       "    <tr>\n",
       "      <th>7384</th>\n",
       "      <td>VOLVO</td>\n",
       "      <td>SUV - STANDARD</td>\n",
       "      <td>2.0</td>\n",
       "      <td>4</td>\n",
       "      <td>AS8</td>\n",
       "      <td>Z</td>\n",
       "      <td>12.2</td>\n",
       "      <td>8.7</td>\n",
       "      <td>26</td>\n",
       "    </tr>\n",
       "  </tbody>\n",
       "</table>\n",
       "<p>7385 rows × 9 columns</p>\n",
       "</div>"
      ],
      "text/plain": [
       "       Make   Vehicle Class  Engine Size(L) Cylinders Transmission Fuel Type  \\\n",
       "0     ACURA         COMPACT             2.0         4          AS5         Z   \n",
       "1     ACURA         COMPACT             2.4         4           M6         Z   \n",
       "2     ACURA         COMPACT             1.5         4          AV7         Z   \n",
       "3     ACURA     SUV - SMALL             3.5         6          AS6         Z   \n",
       "4     ACURA     SUV - SMALL             3.5         6          AS6         Z   \n",
       "...     ...             ...             ...       ...          ...       ...   \n",
       "7380  VOLVO     SUV - SMALL             2.0         4          AS8         Z   \n",
       "7381  VOLVO     SUV - SMALL             2.0         4          AS8         Z   \n",
       "7382  VOLVO     SUV - SMALL             2.0         4          AS8         Z   \n",
       "7383  VOLVO  SUV - STANDARD             2.0         4          AS8         Z   \n",
       "7384  VOLVO  SUV - STANDARD             2.0         4          AS8         Z   \n",
       "\n",
       "      Fuel Consumption City (L/100 km)  Fuel Consumption Hwy (L/100 km)  \\\n",
       "0                                  9.9                              6.7   \n",
       "1                                 11.2                              7.7   \n",
       "2                                  6.0                              5.8   \n",
       "3                                 12.7                              9.1   \n",
       "4                                 12.1                              8.7   \n",
       "...                                ...                              ...   \n",
       "7380                              10.7                              7.7   \n",
       "7381                              11.2                              8.3   \n",
       "7382                              11.7                              8.6   \n",
       "7383                              11.2                              8.3   \n",
       "7384                              12.2                              8.7   \n",
       "\n",
       "      Fuel Consumption Comb (mpg)  \n",
       "0                              33  \n",
       "1                              29  \n",
       "2                              48  \n",
       "3                              25  \n",
       "4                              27  \n",
       "...                           ...  \n",
       "7380                           30  \n",
       "7381                           29  \n",
       "7382                           27  \n",
       "7383                           29  \n",
       "7384                           26  \n",
       "\n",
       "[7385 rows x 9 columns]"
      ]
     },
     "execution_count": 12,
     "metadata": {},
     "output_type": "execute_result"
    }
   ],
   "source": [
    "X"
   ]
  },
  {
   "cell_type": "code",
   "execution_count": 13,
   "id": "b598005a",
   "metadata": {},
   "outputs": [
    {
     "data": {
      "text/html": [
       "<div>\n",
       "<style scoped>\n",
       "    .dataframe tbody tr th:only-of-type {\n",
       "        vertical-align: middle;\n",
       "    }\n",
       "\n",
       "    .dataframe tbody tr th {\n",
       "        vertical-align: top;\n",
       "    }\n",
       "\n",
       "    .dataframe thead th {\n",
       "        text-align: right;\n",
       "    }\n",
       "</style>\n",
       "<table border=\"1\" class=\"dataframe\">\n",
       "  <thead>\n",
       "    <tr style=\"text-align: right;\">\n",
       "      <th></th>\n",
       "      <th>CO2 Emissions(g/km)</th>\n",
       "    </tr>\n",
       "  </thead>\n",
       "  <tbody>\n",
       "    <tr>\n",
       "      <th>0</th>\n",
       "      <td>196</td>\n",
       "    </tr>\n",
       "    <tr>\n",
       "      <th>1</th>\n",
       "      <td>221</td>\n",
       "    </tr>\n",
       "    <tr>\n",
       "      <th>2</th>\n",
       "      <td>136</td>\n",
       "    </tr>\n",
       "    <tr>\n",
       "      <th>3</th>\n",
       "      <td>255</td>\n",
       "    </tr>\n",
       "    <tr>\n",
       "      <th>4</th>\n",
       "      <td>244</td>\n",
       "    </tr>\n",
       "    <tr>\n",
       "      <th>...</th>\n",
       "      <td>...</td>\n",
       "    </tr>\n",
       "    <tr>\n",
       "      <th>7380</th>\n",
       "      <td>219</td>\n",
       "    </tr>\n",
       "    <tr>\n",
       "      <th>7381</th>\n",
       "      <td>232</td>\n",
       "    </tr>\n",
       "    <tr>\n",
       "      <th>7382</th>\n",
       "      <td>240</td>\n",
       "    </tr>\n",
       "    <tr>\n",
       "      <th>7383</th>\n",
       "      <td>232</td>\n",
       "    </tr>\n",
       "    <tr>\n",
       "      <th>7384</th>\n",
       "      <td>248</td>\n",
       "    </tr>\n",
       "  </tbody>\n",
       "</table>\n",
       "<p>7385 rows × 1 columns</p>\n",
       "</div>"
      ],
      "text/plain": [
       "      CO2 Emissions(g/km)\n",
       "0                     196\n",
       "1                     221\n",
       "2                     136\n",
       "3                     255\n",
       "4                     244\n",
       "...                   ...\n",
       "7380                  219\n",
       "7381                  232\n",
       "7382                  240\n",
       "7383                  232\n",
       "7384                  248\n",
       "\n",
       "[7385 rows x 1 columns]"
      ]
     },
     "execution_count": 13,
     "metadata": {},
     "output_type": "execute_result"
    }
   ],
   "source": [
    "y"
   ]
  },
  {
   "cell_type": "code",
   "execution_count": 14,
   "id": "cf88d020",
   "metadata": {},
   "outputs": [],
   "source": [
    "X_train, X_test, Y_train, Y_test = train_test_split(X, y, random_state=0, test_size = 0.1)"
   ]
  },
  {
   "cell_type": "code",
   "execution_count": 15,
   "id": "9e661331",
   "metadata": {},
   "outputs": [
    {
     "data": {
      "text/html": [
       "<div>\n",
       "<style scoped>\n",
       "    .dataframe tbody tr th:only-of-type {\n",
       "        vertical-align: middle;\n",
       "    }\n",
       "\n",
       "    .dataframe tbody tr th {\n",
       "        vertical-align: top;\n",
       "    }\n",
       "\n",
       "    .dataframe thead th {\n",
       "        text-align: right;\n",
       "    }\n",
       "</style>\n",
       "<table border=\"1\" class=\"dataframe\">\n",
       "  <thead>\n",
       "    <tr style=\"text-align: right;\">\n",
       "      <th></th>\n",
       "      <th>Make</th>\n",
       "      <th>Vehicle Class</th>\n",
       "      <th>Engine Size(L)</th>\n",
       "      <th>Cylinders</th>\n",
       "      <th>Transmission</th>\n",
       "      <th>Fuel Type</th>\n",
       "      <th>Fuel Consumption City (L/100 km)</th>\n",
       "      <th>Fuel Consumption Hwy (L/100 km)</th>\n",
       "      <th>Fuel Consumption Comb (mpg)</th>\n",
       "    </tr>\n",
       "  </thead>\n",
       "  <tbody>\n",
       "    <tr>\n",
       "      <th>479</th>\n",
       "      <td>GMC</td>\n",
       "      <td>SUV - STANDARD</td>\n",
       "      <td>5.3</td>\n",
       "      <td>8</td>\n",
       "      <td>A6</td>\n",
       "      <td>X</td>\n",
       "      <td>16.0</td>\n",
       "      <td>11.1</td>\n",
       "      <td>20</td>\n",
       "    </tr>\n",
       "    <tr>\n",
       "      <th>3648</th>\n",
       "      <td>FORD</td>\n",
       "      <td>SUV - STANDARD</td>\n",
       "      <td>3.5</td>\n",
       "      <td>6</td>\n",
       "      <td>AS6</td>\n",
       "      <td>E</td>\n",
       "      <td>18.7</td>\n",
       "      <td>12.9</td>\n",
       "      <td>18</td>\n",
       "    </tr>\n",
       "    <tr>\n",
       "      <th>4751</th>\n",
       "      <td>FORD</td>\n",
       "      <td>PICKUP TRUCK - STANDARD</td>\n",
       "      <td>5.0</td>\n",
       "      <td>8</td>\n",
       "      <td>AS10</td>\n",
       "      <td>X</td>\n",
       "      <td>14.6</td>\n",
       "      <td>10.9</td>\n",
       "      <td>22</td>\n",
       "    </tr>\n",
       "    <tr>\n",
       "      <th>6224</th>\n",
       "      <td>MERCEDES-BENZ</td>\n",
       "      <td>TWO-SEATER</td>\n",
       "      <td>2.0</td>\n",
       "      <td>4</td>\n",
       "      <td>A9</td>\n",
       "      <td>Z</td>\n",
       "      <td>10.0</td>\n",
       "      <td>7.3</td>\n",
       "      <td>32</td>\n",
       "    </tr>\n",
       "    <tr>\n",
       "      <th>7327</th>\n",
       "      <td>TOYOTA</td>\n",
       "      <td>COMPACT</td>\n",
       "      <td>1.8</td>\n",
       "      <td>4</td>\n",
       "      <td>AV</td>\n",
       "      <td>X</td>\n",
       "      <td>7.9</td>\n",
       "      <td>6.1</td>\n",
       "      <td>40</td>\n",
       "    </tr>\n",
       "    <tr>\n",
       "      <th>...</th>\n",
       "      <td>...</td>\n",
       "      <td>...</td>\n",
       "      <td>...</td>\n",
       "      <td>...</td>\n",
       "      <td>...</td>\n",
       "      <td>...</td>\n",
       "      <td>...</td>\n",
       "      <td>...</td>\n",
       "      <td>...</td>\n",
       "    </tr>\n",
       "    <tr>\n",
       "      <th>4931</th>\n",
       "      <td>JAGUAR</td>\n",
       "      <td>SUV - SMALL</td>\n",
       "      <td>2.0</td>\n",
       "      <td>4</td>\n",
       "      <td>AS8</td>\n",
       "      <td>Z</td>\n",
       "      <td>10.7</td>\n",
       "      <td>8.8</td>\n",
       "      <td>29</td>\n",
       "    </tr>\n",
       "    <tr>\n",
       "      <th>3264</th>\n",
       "      <td>VOLKSWAGEN</td>\n",
       "      <td>COMPACT</td>\n",
       "      <td>1.8</td>\n",
       "      <td>4</td>\n",
       "      <td>AS6</td>\n",
       "      <td>X</td>\n",
       "      <td>9.3</td>\n",
       "      <td>6.5</td>\n",
       "      <td>35</td>\n",
       "    </tr>\n",
       "    <tr>\n",
       "      <th>1653</th>\n",
       "      <td>JAGUAR</td>\n",
       "      <td>FULL-SIZE</td>\n",
       "      <td>5.0</td>\n",
       "      <td>8</td>\n",
       "      <td>AS8</td>\n",
       "      <td>E</td>\n",
       "      <td>20.6</td>\n",
       "      <td>13.6</td>\n",
       "      <td>16</td>\n",
       "    </tr>\n",
       "    <tr>\n",
       "      <th>2607</th>\n",
       "      <td>FORD</td>\n",
       "      <td>SUV - STANDARD</td>\n",
       "      <td>3.5</td>\n",
       "      <td>6</td>\n",
       "      <td>AS6</td>\n",
       "      <td>X</td>\n",
       "      <td>14.7</td>\n",
       "      <td>10.7</td>\n",
       "      <td>22</td>\n",
       "    </tr>\n",
       "    <tr>\n",
       "      <th>2732</th>\n",
       "      <td>HYUNDAI</td>\n",
       "      <td>MID-SIZE</td>\n",
       "      <td>2.0</td>\n",
       "      <td>4</td>\n",
       "      <td>M6</td>\n",
       "      <td>X</td>\n",
       "      <td>9.8</td>\n",
       "      <td>7.1</td>\n",
       "      <td>33</td>\n",
       "    </tr>\n",
       "  </tbody>\n",
       "</table>\n",
       "<p>6646 rows × 9 columns</p>\n",
       "</div>"
      ],
      "text/plain": [
       "               Make            Vehicle Class  Engine Size(L) Cylinders  \\\n",
       "479             GMC           SUV - STANDARD             5.3         8   \n",
       "3648           FORD           SUV - STANDARD             3.5         6   \n",
       "4751           FORD  PICKUP TRUCK - STANDARD             5.0         8   \n",
       "6224  MERCEDES-BENZ               TWO-SEATER             2.0         4   \n",
       "7327         TOYOTA                  COMPACT             1.8         4   \n",
       "...             ...                      ...             ...       ...   \n",
       "4931         JAGUAR              SUV - SMALL             2.0         4   \n",
       "3264     VOLKSWAGEN                  COMPACT             1.8         4   \n",
       "1653         JAGUAR                FULL-SIZE             5.0         8   \n",
       "2607           FORD           SUV - STANDARD             3.5         6   \n",
       "2732        HYUNDAI                 MID-SIZE             2.0         4   \n",
       "\n",
       "     Transmission Fuel Type  Fuel Consumption City (L/100 km)  \\\n",
       "479            A6         X                              16.0   \n",
       "3648          AS6         E                              18.7   \n",
       "4751         AS10         X                              14.6   \n",
       "6224           A9         Z                              10.0   \n",
       "7327           AV         X                               7.9   \n",
       "...           ...       ...                               ...   \n",
       "4931          AS8         Z                              10.7   \n",
       "3264          AS6         X                               9.3   \n",
       "1653          AS8         E                              20.6   \n",
       "2607          AS6         X                              14.7   \n",
       "2732           M6         X                               9.8   \n",
       "\n",
       "      Fuel Consumption Hwy (L/100 km)  Fuel Consumption Comb (mpg)  \n",
       "479                              11.1                           20  \n",
       "3648                             12.9                           18  \n",
       "4751                             10.9                           22  \n",
       "6224                              7.3                           32  \n",
       "7327                              6.1                           40  \n",
       "...                               ...                          ...  \n",
       "4931                              8.8                           29  \n",
       "3264                              6.5                           35  \n",
       "1653                             13.6                           16  \n",
       "2607                             10.7                           22  \n",
       "2732                              7.1                           33  \n",
       "\n",
       "[6646 rows x 9 columns]"
      ]
     },
     "execution_count": 15,
     "metadata": {},
     "output_type": "execute_result"
    }
   ],
   "source": [
    "X_train"
   ]
  },
  {
   "cell_type": "code",
   "execution_count": 16,
   "id": "7ce48d47",
   "metadata": {},
   "outputs": [
    {
     "data": {
      "text/html": [
       "<div>\n",
       "<style scoped>\n",
       "    .dataframe tbody tr th:only-of-type {\n",
       "        vertical-align: middle;\n",
       "    }\n",
       "\n",
       "    .dataframe tbody tr th {\n",
       "        vertical-align: top;\n",
       "    }\n",
       "\n",
       "    .dataframe thead th {\n",
       "        text-align: right;\n",
       "    }\n",
       "</style>\n",
       "<table border=\"1\" class=\"dataframe\">\n",
       "  <thead>\n",
       "    <tr style=\"text-align: right;\">\n",
       "      <th></th>\n",
       "      <th>Make</th>\n",
       "      <th>Vehicle Class</th>\n",
       "      <th>Engine Size(L)</th>\n",
       "      <th>Cylinders</th>\n",
       "      <th>Transmission</th>\n",
       "      <th>Fuel Type</th>\n",
       "      <th>Fuel Consumption City (L/100 km)</th>\n",
       "      <th>Fuel Consumption Hwy (L/100 km)</th>\n",
       "      <th>Fuel Consumption Comb (mpg)</th>\n",
       "    </tr>\n",
       "  </thead>\n",
       "  <tbody>\n",
       "    <tr>\n",
       "      <th>6307</th>\n",
       "      <td>PORSCHE</td>\n",
       "      <td>MINICOMPACT</td>\n",
       "      <td>3.0</td>\n",
       "      <td>6</td>\n",
       "      <td>M7</td>\n",
       "      <td>Z</td>\n",
       "      <td>12.0</td>\n",
       "      <td>8.2</td>\n",
       "      <td>27</td>\n",
       "    </tr>\n",
       "    <tr>\n",
       "      <th>5036</th>\n",
       "      <td>LAND ROVER</td>\n",
       "      <td>SUV - SMALL</td>\n",
       "      <td>2.0</td>\n",
       "      <td>4</td>\n",
       "      <td>AS8</td>\n",
       "      <td>D</td>\n",
       "      <td>9.2</td>\n",
       "      <td>7.8</td>\n",
       "      <td>33</td>\n",
       "    </tr>\n",
       "    <tr>\n",
       "      <th>1995</th>\n",
       "      <td>PORSCHE</td>\n",
       "      <td>MINICOMPACT</td>\n",
       "      <td>3.8</td>\n",
       "      <td>6</td>\n",
       "      <td>AM7</td>\n",
       "      <td>Z</td>\n",
       "      <td>12.5</td>\n",
       "      <td>9.0</td>\n",
       "      <td>26</td>\n",
       "    </tr>\n",
       "    <tr>\n",
       "      <th>4156</th>\n",
       "      <td>NISSAN</td>\n",
       "      <td>MID-SIZE</td>\n",
       "      <td>2.5</td>\n",
       "      <td>4</td>\n",
       "      <td>AV7</td>\n",
       "      <td>X</td>\n",
       "      <td>8.8</td>\n",
       "      <td>6.5</td>\n",
       "      <td>36</td>\n",
       "    </tr>\n",
       "    <tr>\n",
       "      <th>6328</th>\n",
       "      <td>PORSCHE</td>\n",
       "      <td>MINICOMPACT</td>\n",
       "      <td>3.0</td>\n",
       "      <td>6</td>\n",
       "      <td>AM7</td>\n",
       "      <td>Z</td>\n",
       "      <td>11.0</td>\n",
       "      <td>8.5</td>\n",
       "      <td>29</td>\n",
       "    </tr>\n",
       "    <tr>\n",
       "      <th>...</th>\n",
       "      <td>...</td>\n",
       "      <td>...</td>\n",
       "      <td>...</td>\n",
       "      <td>...</td>\n",
       "      <td>...</td>\n",
       "      <td>...</td>\n",
       "      <td>...</td>\n",
       "      <td>...</td>\n",
       "      <td>...</td>\n",
       "    </tr>\n",
       "    <tr>\n",
       "      <th>4340</th>\n",
       "      <td>VOLKSWAGEN</td>\n",
       "      <td>COMPACT</td>\n",
       "      <td>1.8</td>\n",
       "      <td>4</td>\n",
       "      <td>AM6</td>\n",
       "      <td>X</td>\n",
       "      <td>9.4</td>\n",
       "      <td>6.8</td>\n",
       "      <td>34</td>\n",
       "    </tr>\n",
       "    <tr>\n",
       "      <th>3891</th>\n",
       "      <td>JEEP</td>\n",
       "      <td>SUV - SMALL</td>\n",
       "      <td>2.0</td>\n",
       "      <td>4</td>\n",
       "      <td>M5</td>\n",
       "      <td>X</td>\n",
       "      <td>10.3</td>\n",
       "      <td>7.9</td>\n",
       "      <td>30</td>\n",
       "    </tr>\n",
       "    <tr>\n",
       "      <th>667</th>\n",
       "      <td>LEXUS</td>\n",
       "      <td>COMPACT</td>\n",
       "      <td>2.5</td>\n",
       "      <td>6</td>\n",
       "      <td>AS6</td>\n",
       "      <td>Z</td>\n",
       "      <td>11.8</td>\n",
       "      <td>8.7</td>\n",
       "      <td>27</td>\n",
       "    </tr>\n",
       "    <tr>\n",
       "      <th>1859</th>\n",
       "      <td>MERCEDES-BENZ</td>\n",
       "      <td>SUV - STANDARD</td>\n",
       "      <td>5.5</td>\n",
       "      <td>8</td>\n",
       "      <td>AS7</td>\n",
       "      <td>Z</td>\n",
       "      <td>18.2</td>\n",
       "      <td>14.0</td>\n",
       "      <td>17</td>\n",
       "    </tr>\n",
       "    <tr>\n",
       "      <th>5255</th>\n",
       "      <td>NISSAN</td>\n",
       "      <td>PICKUP TRUCK - STANDARD</td>\n",
       "      <td>5.6</td>\n",
       "      <td>8</td>\n",
       "      <td>AS7</td>\n",
       "      <td>X</td>\n",
       "      <td>15.0</td>\n",
       "      <td>11.2</td>\n",
       "      <td>21</td>\n",
       "    </tr>\n",
       "  </tbody>\n",
       "</table>\n",
       "<p>739 rows × 9 columns</p>\n",
       "</div>"
      ],
      "text/plain": [
       "               Make            Vehicle Class  Engine Size(L) Cylinders  \\\n",
       "6307        PORSCHE              MINICOMPACT             3.0         6   \n",
       "5036     LAND ROVER              SUV - SMALL             2.0         4   \n",
       "1995        PORSCHE              MINICOMPACT             3.8         6   \n",
       "4156         NISSAN                 MID-SIZE             2.5         4   \n",
       "6328        PORSCHE              MINICOMPACT             3.0         6   \n",
       "...             ...                      ...             ...       ...   \n",
       "4340     VOLKSWAGEN                  COMPACT             1.8         4   \n",
       "3891           JEEP              SUV - SMALL             2.0         4   \n",
       "667           LEXUS                  COMPACT             2.5         6   \n",
       "1859  MERCEDES-BENZ           SUV - STANDARD             5.5         8   \n",
       "5255         NISSAN  PICKUP TRUCK - STANDARD             5.6         8   \n",
       "\n",
       "     Transmission Fuel Type  Fuel Consumption City (L/100 km)  \\\n",
       "6307           M7         Z                              12.0   \n",
       "5036          AS8         D                               9.2   \n",
       "1995          AM7         Z                              12.5   \n",
       "4156          AV7         X                               8.8   \n",
       "6328          AM7         Z                              11.0   \n",
       "...           ...       ...                               ...   \n",
       "4340          AM6         X                               9.4   \n",
       "3891           M5         X                              10.3   \n",
       "667           AS6         Z                              11.8   \n",
       "1859          AS7         Z                              18.2   \n",
       "5255          AS7         X                              15.0   \n",
       "\n",
       "      Fuel Consumption Hwy (L/100 km)  Fuel Consumption Comb (mpg)  \n",
       "6307                              8.2                           27  \n",
       "5036                              7.8                           33  \n",
       "1995                              9.0                           26  \n",
       "4156                              6.5                           36  \n",
       "6328                              8.5                           29  \n",
       "...                               ...                          ...  \n",
       "4340                              6.8                           34  \n",
       "3891                              7.9                           30  \n",
       "667                               8.7                           27  \n",
       "1859                             14.0                           17  \n",
       "5255                             11.2                           21  \n",
       "\n",
       "[739 rows x 9 columns]"
      ]
     },
     "execution_count": 16,
     "metadata": {},
     "output_type": "execute_result"
    }
   ],
   "source": [
    "X_test"
   ]
  },
  {
   "cell_type": "markdown",
   "id": "5eec5261",
   "metadata": {},
   "source": [
    "#### Building pipeline"
   ]
  },
  {
   "cell_type": "code",
   "execution_count": 17,
   "id": "5653f2ce",
   "metadata": {},
   "outputs": [
    {
     "data": {
      "text/plain": [
       "array([[ 1.42722056,  1.01454396,  1.00757343, -1.10512068],\n",
       "       [ 0.47704091,  1.60834384,  1.57584459, -1.50869801],\n",
       "       [ 1.2985109 ,  0.67179427,  0.93622792, -0.73839573],\n",
       "       ...,\n",
       "       [ 1.2985109 ,  1.98308863,  1.7667108 , -1.95735443],\n",
       "       [ 0.47704091,  0.69719059,  0.86297981, -0.73839573],\n",
       "       [-0.88492844, -0.76647857, -0.91204201,  0.83606729]])"
      ]
     },
     "execution_count": 17,
     "metadata": {},
     "output_type": "execute_result"
    }
   ],
   "source": [
    "quan_pipeline = Pipeline([\n",
    "    ('std_scaler', PowerTransformer())\n",
    "])\n",
    "\n",
    "quan_transformed = quan_pipeline.fit_transform(X_train[quan_cols])\n",
    "quan_transformed"
   ]
  },
  {
   "cell_type": "code",
   "execution_count": 18,
   "id": "3a791e5d",
   "metadata": {},
   "outputs": [
    {
     "data": {
      "text/plain": [
       "array([[0., 0., 0., ..., 0., 1., 0.],\n",
       "       [0., 0., 0., ..., 0., 0., 0.],\n",
       "       [0., 0., 0., ..., 0., 1., 0.],\n",
       "       ...,\n",
       "       [0., 0., 0., ..., 0., 0., 0.],\n",
       "       [0., 0., 0., ..., 0., 1., 0.],\n",
       "       [0., 0., 0., ..., 0., 1., 0.]])"
      ]
     },
     "execution_count": 18,
     "metadata": {},
     "output_type": "execute_result"
    }
   ],
   "source": [
    "cat_pipeline = Pipeline([\n",
    "    ('one_hot_encoder', OneHotEncoder(handle_unknown = 'ignore', categories=cat_col_categories))\n",
    "])\n",
    "\n",
    "cat_transformed = cat_pipeline.fit_transform(X_train[cat_cols])\n",
    "cat_transformed.toarray()"
   ]
  },
  {
   "cell_type": "code",
   "execution_count": 19,
   "id": "05a68ef5",
   "metadata": {},
   "outputs": [
    {
     "data": {
      "text/plain": [
       "array([ 1.42722056,  1.01454396,  1.00757343, -1.10512068,  0.        ,\n",
       "        0.        ,  0.        ,  0.        ,  0.        ,  0.        ,\n",
       "        0.        ,  0.        ,  0.        ,  0.        ,  0.        ,\n",
       "        0.        ,  0.        ,  0.        ,  0.        ,  1.        ,\n",
       "        0.        ,  0.        ,  0.        ,  0.        ,  0.        ,\n",
       "        0.        ,  0.        ,  0.        ,  0.        ,  0.        ,\n",
       "        0.        ,  0.        ,  0.        ,  0.        ,  0.        ,\n",
       "        0.        ,  0.        ,  0.        ,  0.        ,  0.        ,\n",
       "        0.        ,  0.        ,  0.        ,  0.        ,  0.        ,\n",
       "        0.        ,  0.        ,  0.        ,  0.        ,  0.        ,\n",
       "        0.        ,  0.        ,  0.        ,  0.        ,  0.        ,\n",
       "        0.        ,  0.        ,  0.        ,  1.        ,  0.        ,\n",
       "        0.        ,  0.        ,  0.        ,  0.        ,  0.        ,\n",
       "        0.        ,  1.        ,  0.        ,  0.        ,  0.        ,\n",
       "        0.        ,  0.        ,  0.        ,  1.        ,  0.        ,\n",
       "        0.        ,  0.        ,  0.        ,  0.        ,  0.        ,\n",
       "        0.        ,  0.        ,  0.        ,  0.        ,  0.        ,\n",
       "        0.        ,  0.        ,  0.        ,  0.        ,  0.        ,\n",
       "        0.        ,  0.        ,  0.        ,  0.        ,  0.        ,\n",
       "        0.        ,  0.        ,  0.        ,  0.        ,  0.        ,\n",
       "        1.        ,  0.        ])"
      ]
     },
     "execution_count": 19,
     "metadata": {},
     "output_type": "execute_result"
    }
   ],
   "source": [
    "data_pipeline = ColumnTransformer([\n",
    "    ('numerical', quan_pipeline, quan_cols),\n",
    "    ('categorical', cat_pipeline, cat_cols)\n",
    "    \n",
    "])\n",
    "\n",
    "train_data_processed = data_pipeline.fit_transform(X_train)\n",
    "train_data_processed.toarray()[0]"
   ]
  },
  {
   "cell_type": "code",
   "execution_count": 20,
   "id": "e09ec412",
   "metadata": {},
   "outputs": [],
   "source": [
    "model_pipeline = Pipeline([\n",
    "    ('scaling', data_pipeline),\n",
    "    ('model', LGBMRegressor(random_state=0))\n",
    "])"
   ]
  },
  {
   "cell_type": "code",
   "execution_count": 21,
   "id": "e4faeacd",
   "metadata": {},
   "outputs": [
    {
     "data": {
      "text/plain": [
       "array([317, 264, 304, ..., 280, 303, 202])"
      ]
     },
     "execution_count": 21,
     "metadata": {},
     "output_type": "execute_result"
    }
   ],
   "source": [
    "Y_train.values.reshape(-1,)"
   ]
  },
  {
   "cell_type": "code",
   "execution_count": 22,
   "id": "10f37e14",
   "metadata": {},
   "outputs": [
    {
     "data": {
      "text/plain": [
       "Pipeline(steps=[('scaling',\n",
       "                 ColumnTransformer(transformers=[('numerical',\n",
       "                                                  Pipeline(steps=[('std_scaler',\n",
       "                                                                   PowerTransformer())]),\n",
       "                                                  ['Engine Size(L)',\n",
       "                                                   'Fuel Consumption City '\n",
       "                                                   '(L/100 km)',\n",
       "                                                   'Fuel Consumption Hwy '\n",
       "                                                   '(L/100 km)',\n",
       "                                                   'Fuel Consumption Comb '\n",
       "                                                   '(mpg)']),\n",
       "                                                 ('categorical',\n",
       "                                                  Pipeline(steps=[('one_hot_encoder',\n",
       "                                                                   OneHotEncoder(categories=[array(['ACURA', 'ALFA ROMEO', 'ASTON MART...\n",
       "                                                                                             array(['A10', 'A4', 'A5', 'A6', 'A7', 'A8', 'A9', 'AM5', 'AM6', 'AM7',\n",
       "       'AM8', 'AM9', 'AS10', 'AS4', 'AS5', 'AS6', 'AS7', 'AS8', 'AS9',\n",
       "       'AV', 'AV10', 'AV6', 'AV7', 'AV8', 'M5', 'M6', 'M7'], dtype=object),\n",
       "                                                                                             array(['D', 'E', 'N', 'X', 'Z'], dtype=object)],\n",
       "                                                                                 handle_unknown='ignore'))]),\n",
       "                                                  ['Make', 'Vehicle Class',\n",
       "                                                   'Cylinders', 'Transmission',\n",
       "                                                   'Fuel Type'])])),\n",
       "                ('model', LGBMRegressor(random_state=0))])"
      ]
     },
     "execution_count": 22,
     "metadata": {},
     "output_type": "execute_result"
    }
   ],
   "source": [
    "model_pipeline.fit(X_train, Y_train.values.reshape(-1, ))"
   ]
  },
  {
   "cell_type": "code",
   "execution_count": 23,
   "id": "27207260",
   "metadata": {},
   "outputs": [],
   "source": [
    "pred = model_pipeline.predict(X_test)"
   ]
  },
  {
   "cell_type": "code",
   "execution_count": 24,
   "id": "d95e7ed4",
   "metadata": {},
   "outputs": [
    {
     "data": {
      "text/plain": [
       "array([241.02303467, 222.53264636, 253.03544837, 183.40088277,\n",
       "       229.02452974, 199.03443501, 298.66677647, 274.41133631,\n",
       "       200.62780037, 277.67415548, 253.72451169, 252.66621125,\n",
       "       194.33930405, 317.37928841, 256.34184789, 240.33381734,\n",
       "       329.5342547 , 277.26473101, 242.70593067, 218.7728639 ,\n",
       "       245.91756505, 199.37133038, 362.00894763, 274.19467224,\n",
       "       235.2956961 , 276.27087669, 179.62879611, 397.46600574,\n",
       "       243.78964137, 233.04088884, 183.11517232, 242.13001881,\n",
       "       318.20434778, 242.49124241, 305.03993146, 236.28515767,\n",
       "       263.78505433, 372.84000389, 366.93573216, 243.77203146,\n",
       "       268.15556519, 259.48079989, 326.35411022, 277.10777875,\n",
       "       275.19809126, 219.51456859, 262.94604035, 294.62547392,\n",
       "       245.52752107, 265.0834101 , 251.83405577, 235.17800507,\n",
       "       232.1484803 , 283.86203792, 342.48446501, 212.09203624,\n",
       "       254.09980661, 326.46407345, 288.27217598, 211.63324354,\n",
       "       313.05336799, 254.65487354, 259.98571958, 168.31960189,\n",
       "       235.04439268, 289.21081908, 226.35633444, 180.80228742,\n",
       "       226.06960505, 188.28836023, 224.20277797, 340.77046681,\n",
       "       342.63413489, 232.72774509, 194.73373977, 181.86416936,\n",
       "       182.42628377, 265.50197662, 235.25804412, 282.03172779,\n",
       "       192.97059433, 236.26871372, 244.92807846, 286.71649857,\n",
       "       243.91003045, 342.01014432, 217.99098811, 237.0828963 ,\n",
       "       158.38897328, 120.96674598, 210.19042141, 338.91633574,\n",
       "       251.96983311, 194.7739537 , 352.78913615, 298.83089594,\n",
       "       379.05707664, 284.66160414, 168.39856872, 213.81697549,\n",
       "       295.20931956, 184.06555763, 204.65436654, 254.34769702,\n",
       "       219.67006326, 217.47358823, 290.75748224, 283.06860156,\n",
       "       265.29268555, 199.27393741, 241.60631502, 199.90100996,\n",
       "       242.40986749, 234.15914088, 259.6463611 , 256.35747554,\n",
       "       236.29658046, 225.96166124, 253.68336618, 173.98105692,\n",
       "       222.13576442, 262.70225099, 245.76805294, 210.84095532,\n",
       "       240.61739535, 297.37362009, 173.61257873, 316.7798423 ,\n",
       "       192.96613827, 340.89311362, 241.13957967, 292.99152824,\n",
       "       379.75763334, 397.48072942, 228.36587011, 272.36361794,\n",
       "       285.36401656, 242.84988106, 344.06920153, 404.77192837,\n",
       "       265.96162692, 227.30622831, 251.60538029, 159.46902309,\n",
       "       237.9355622 , 225.03625633, 289.61442851, 411.36043872,\n",
       "       219.94625856, 358.68702779, 175.45237576, 253.69086271,\n",
       "       292.87616014, 243.89551643, 178.15457284, 246.14849236,\n",
       "       235.20900688, 302.28319735, 226.58411928, 253.66081023,\n",
       "       226.12583207, 205.60340665, 204.94165614, 211.55362471,\n",
       "       243.26929557, 228.07155517, 235.2956961 , 217.39764754,\n",
       "       296.24068096, 152.61713163, 235.04439268, 325.18003017,\n",
       "       294.17238184, 134.94445343, 212.72151365, 259.23983128,\n",
       "       203.024746  , 283.69435489, 253.69086271, 205.22812264,\n",
       "       303.6512558 , 226.67258949, 377.70387681, 296.61273775,\n",
       "       217.39764754, 235.59262747, 250.97296703, 241.09868917,\n",
       "       234.79939468, 276.99597675, 195.57624698, 380.7237586 ,\n",
       "       343.65044995, 219.78143209, 240.33381734, 164.2734735 ,\n",
       "       221.88672032, 339.77851181, 297.25896204, 244.14159306,\n",
       "       264.75085158, 259.92911134, 327.01208798, 104.56402881,\n",
       "       155.97712676, 297.85574146, 219.56778684, 242.19971035,\n",
       "       256.36442825, 273.19491912, 173.20295073, 204.42251088,\n",
       "       221.36215355, 148.01097829, 205.59347181, 198.51057844,\n",
       "       298.62745015, 194.36510763, 200.17596479, 192.9092388 ,\n",
       "       359.26295735, 183.03322695, 260.74558161, 205.97018859,\n",
       "       236.06362478, 321.43914328, 214.29081851, 186.85556219,\n",
       "       199.30037896, 218.83848989, 177.42053706, 234.44807603,\n",
       "       213.13806427, 284.64951402, 220.01595509, 186.76471714,\n",
       "       243.80088461, 257.06159914, 203.98107041, 162.13104559,\n",
       "       244.51740279, 211.78703514, 408.08812014, 275.06586247,\n",
       "       274.5739039 , 188.76032646, 259.2951198 , 339.77851181,\n",
       "       230.10483977, 277.71413167, 295.23254037, 244.49389099,\n",
       "       348.0307122 , 297.8732275 , 212.52008545, 205.03519089,\n",
       "       219.16529485, 359.0128034 , 203.70076133, 334.0207028 ,\n",
       "       240.22557627, 193.80242137, 191.96640307, 241.61097129,\n",
       "       199.77646481, 146.29426313, 123.21608386, 195.32613444,\n",
       "       220.36834322, 342.39280382, 321.50985327, 276.63791512,\n",
       "       498.66539522, 245.03861965, 286.69455711, 271.24622833,\n",
       "       238.86028534, 204.41754184, 237.232257  , 276.82120697,\n",
       "       325.42500076, 359.26295735, 212.75752875, 326.83929565,\n",
       "       280.05454994, 193.49129274, 297.66356833, 264.25224884,\n",
       "       303.09636763, 315.89033613, 205.9849981 , 264.41532773,\n",
       "       263.40952005, 219.88663431, 183.01227979, 205.91904157,\n",
       "       324.58408094, 253.76270566, 127.60733019, 263.52342504,\n",
       "       226.30998858, 278.90591836, 264.16896473, 368.77346161,\n",
       "       365.09421081, 212.52868807, 363.62777403, 183.02337858,\n",
       "       234.67913656, 187.98127507, 267.68524256, 317.5273485 ,\n",
       "       228.25976808, 289.54015511, 226.35066832, 278.37972033,\n",
       "       310.96742219, 241.92050454, 219.44426833, 254.5674755 ,\n",
       "       263.46283968, 186.27155041, 261.27644793, 169.16477785,\n",
       "       174.15263607, 104.56402881, 219.49596432, 245.41600972,\n",
       "       164.34473127, 219.35391076, 176.80099205, 234.45147096,\n",
       "       332.54753155, 252.38868684, 182.7271866 , 229.05674507,\n",
       "       155.97712676, 234.98376087, 286.54041895, 278.74406937,\n",
       "       211.73529729, 219.22389343, 236.77931315, 303.59179333,\n",
       "       250.77120721, 242.10739397, 195.11470788, 274.59355553,\n",
       "       200.62780037, 186.56809781, 199.72446848, 182.07639336,\n",
       "       205.86410436, 186.79806758, 234.91270508, 199.09616873,\n",
       "       320.25025993, 310.90102863, 215.36344189, 250.51257115,\n",
       "       203.89231674, 200.83847792, 274.04928731, 271.32029544,\n",
       "       227.4298303 , 194.34660155, 303.40861922, 326.61080016,\n",
       "       308.33788764, 277.90156215, 211.7872966 , 256.76138916,\n",
       "       347.47729468, 432.88282794, 253.48774722, 228.93423687,\n",
       "       174.44443508, 281.83946016, 252.19829695, 245.464739  ,\n",
       "       183.13619834, 194.05540164, 178.32247273, 253.78105273,\n",
       "       243.08890055, 185.60884256, 194.36510763, 279.53295624,\n",
       "       169.0722307 , 273.15933713, 295.6738131 , 255.29559805,\n",
       "       205.01540534, 186.60351782, 221.58249364, 303.40861922,\n",
       "       221.1178982 , 286.75943885, 177.55045759, 264.7646492 ,\n",
       "       250.78924643, 302.42494505, 327.81245057, 304.50091928,\n",
       "       253.14786023, 173.66594649, 177.42053706, 288.10511098,\n",
       "       276.63791512, 321.93196165, 194.22529364, 220.00832051,\n",
       "       348.56719893, 302.01033148, 304.2901236 , 434.10779263,\n",
       "       174.73816442, 276.78957595, 234.90198454, 416.18909223,\n",
       "       255.31978964, 321.743065  , 289.21081908, 186.68062673,\n",
       "       322.95799691, 174.82871879, 181.86416936, 180.80136932,\n",
       "       383.50473163, 212.90185393, 263.70431748, 229.29320812,\n",
       "       180.80228742, 228.56294243, 284.59668688, 193.72623833,\n",
       "       304.50091928, 433.58290692, 277.69314161, 233.82219317,\n",
       "       173.85812605, 251.00154036, 229.26517515, 221.15536091,\n",
       "       133.04727666, 286.75943885, 169.68212515, 403.55526956,\n",
       "       186.86374414, 178.07348156, 162.08471932, 261.57134775,\n",
       "       227.00045907, 315.83655765, 284.45877728, 261.05514576,\n",
       "       168.85602336, 313.75910533, 217.65897045, 199.70907884,\n",
       "       194.05540164, 302.28319735, 398.82428364, 225.49943834,\n",
       "       227.15244868, 219.83404654, 303.33849587, 253.31601367,\n",
       "       199.94288878, 212.51059893, 226.83311671, 193.61341128,\n",
       "       234.57008868, 267.61148689, 232.60790582, 163.85042299,\n",
       "       296.65622924, 198.53369348, 242.70593067, 342.29591818,\n",
       "       204.67359797, 183.60007613, 329.2304151 , 338.08145182,\n",
       "       200.13923126, 243.52221282, 204.79241627, 274.01417807,\n",
       "       276.6448824 , 326.61080016, 206.59478058, 311.42268144,\n",
       "       252.42536168, 229.19205049, 346.79387981, 159.25228461,\n",
       "       253.53067   , 207.1344696 , 244.51740279, 163.81754907,\n",
       "       192.97059433, 316.7798423 , 243.81060414, 232.07892467,\n",
       "       117.09451898, 342.29591818, 205.23010715, 323.94828149,\n",
       "       343.29439524, 254.40880872, 279.23862935, 298.65910745,\n",
       "       193.35353228, 251.00154036, 174.59027813, 416.40589547,\n",
       "       361.33796441, 245.05318525, 195.22881543, 219.30420329,\n",
       "       332.78593399, 155.3697088 , 254.97050142, 255.22594581,\n",
       "       242.60853071, 342.80317814, 232.40965439, 292.8521578 ,\n",
       "       241.66255078, 210.88611362, 299.04695096, 245.91756505,\n",
       "       217.08588164, 312.83375031, 186.39720521, 234.54314208,\n",
       "       313.75910533, 213.81973482, 200.09980389, 176.97781553,\n",
       "       251.95745311, 271.26032876, 328.15619923, 220.15257825,\n",
       "       195.14714051, 261.7021956 , 262.47574214, 297.05038735,\n",
       "       277.11951103, 260.43347874, 275.94351299, 282.85189054,\n",
       "       220.33918538, 254.07536911, 241.02688519, 297.44011501,\n",
       "       361.87077923, 303.17274482, 347.61159758, 261.20995645,\n",
       "       163.85042299, 210.70516771, 252.72152066, 200.88052938,\n",
       "       229.05461409, 216.96103725, 283.07374587, 304.2901236 ,\n",
       "       211.39810206, 232.85238678, 205.37212583, 262.26801907,\n",
       "       331.36141579, 168.98869175, 324.79359957, 321.50985327,\n",
       "       229.3653053 , 205.00965158, 301.31727119, 308.41411441,\n",
       "       186.4338828 , 298.04019482, 169.0921334 , 290.75745717,\n",
       "       251.79894408, 177.64144253, 217.99431712, 241.92573608,\n",
       "       242.35638318, 359.34621244, 254.20056239, 229.02452974,\n",
       "       259.87515474, 180.78898082, 248.65737343, 211.51661824,\n",
       "       275.11140578, 242.48916581, 290.39798353, 242.07560446,\n",
       "       275.54195356, 242.24504903, 186.57624641, 284.58638677,\n",
       "       350.2702252 , 291.80014663, 186.65351733, 204.22510009,\n",
       "       349.81116411, 283.11804399, 198.60930572, 188.4999195 ,\n",
       "       339.23390584, 250.44940808, 283.73824687, 311.71068611,\n",
       "       235.19551333, 276.26736098, 243.1256083 , 285.33266361,\n",
       "       247.50722245, 256.17219791, 343.84296704, 220.43555993,\n",
       "       278.56763607, 164.31539128, 251.20531875, 301.34740941,\n",
       "       320.28159195, 199.06305422, 218.75226766, 300.84849383,\n",
       "       211.78703514, 182.89471525, 225.58027433, 226.85615605,\n",
       "       234.74169474, 316.70014134, 342.91327971, 221.58249364,\n",
       "       283.87943069, 193.86875505, 237.43491308, 240.57070941,\n",
       "       206.75516734, 260.12226188, 302.45106138, 128.40543941,\n",
       "       211.26899916, 140.04963708, 210.19042141, 328.84359205,\n",
       "       285.18824383, 169.29464746, 324.78526389, 212.44367083,\n",
       "       277.68205723, 220.16293777, 328.66436407, 177.69544967,\n",
       "       260.92370433, 250.46943049, 349.42798713, 229.45332407,\n",
       "       117.09451898, 265.63238365, 282.91828342, 228.32039596,\n",
       "       358.68702779, 177.57076974, 162.05728617, 273.60087511,\n",
       "       262.9171863 , 204.11259449, 315.69057818, 333.14439911,\n",
       "       236.50839252, 324.12625746, 203.93207767, 433.09963119,\n",
       "       299.25685603, 219.17680518, 212.06550186, 193.29516854,\n",
       "       188.38069932, 259.66823317, 276.26736098, 309.40740875,\n",
       "       296.33089149, 289.387141  , 219.30420329, 352.58500303,\n",
       "       200.43781877, 264.84627869, 205.74568356, 311.788265  ,\n",
       "       297.34927484, 240.34997018, 332.72536678, 276.26736098,\n",
       "       211.9234805 , 138.36981351, 217.39764754, 264.51605815,\n",
       "       177.76895998, 241.25164546, 258.15747474, 220.00832051,\n",
       "       277.26984866, 168.84384855, 219.66887414, 344.06920153,\n",
       "       261.70569295, 299.27339417, 279.17968418, 264.98926891,\n",
       "       340.34137065, 407.56234374, 272.96403324, 343.30975558,\n",
       "       219.15848592, 193.31250199, 284.55844824, 330.87027112,\n",
       "       264.73049138, 212.63037001, 204.86764723, 380.54045843,\n",
       "       274.62979965, 252.64356547, 205.75047143, 284.4316437 ,\n",
       "       254.29721206, 327.20048815, 193.08404868, 217.33034685,\n",
       "       241.39204561, 377.70387681, 313.73958238])"
      ]
     },
     "execution_count": 24,
     "metadata": {},
     "output_type": "execute_result"
    }
   ],
   "source": [
    "pred"
   ]
  },
  {
   "cell_type": "code",
   "execution_count": 25,
   "id": "dfa6d942",
   "metadata": {},
   "outputs": [
    {
     "data": {
      "text/plain": [
       "2.3741065983061147"
      ]
     },
     "execution_count": 25,
     "metadata": {},
     "output_type": "execute_result"
    }
   ],
   "source": [
    "mean_absolute_error(Y_test.values.reshape(-1, ), pred)"
   ]
  },
  {
   "cell_type": "markdown",
   "id": "d9084759",
   "metadata": {},
   "source": [
    "#### Using LDA (Experiment)"
   ]
  },
  {
   "cell_type": "code",
   "execution_count": 26,
   "id": "2cff1ef7",
   "metadata": {},
   "outputs": [],
   "source": [
    "X_transformed = data_pipeline.fit_transform(X_train).toarray()\n",
    "Y_transformed = Y_train.values.reshape(-1, )"
   ]
  },
  {
   "cell_type": "code",
   "execution_count": 27,
   "id": "1f2fe507",
   "metadata": {},
   "outputs": [],
   "source": [
    "from sklearn.discriminant_analysis import LinearDiscriminantAnalysis"
   ]
  },
  {
   "cell_type": "code",
   "execution_count": 28,
   "id": "1d6ff973",
   "metadata": {},
   "outputs": [],
   "source": [
    "lda = LinearDiscriminantAnalysis()"
   ]
  },
  {
   "cell_type": "code",
   "execution_count": 29,
   "id": "b024dc14",
   "metadata": {},
   "outputs": [
    {
     "data": {
      "text/plain": [
       "LinearDiscriminantAnalysis()"
      ]
     },
     "execution_count": 29,
     "metadata": {},
     "output_type": "execute_result"
    }
   ],
   "source": [
    "lda.fit(X_transformed, Y_transformed)"
   ]
  },
  {
   "cell_type": "code",
   "execution_count": 30,
   "id": "06a4d508",
   "metadata": {},
   "outputs": [],
   "source": [
    "lda_var_ratios = lda.explained_variance_ratio_"
   ]
  },
  {
   "cell_type": "code",
   "execution_count": 31,
   "id": "c8b2c75f",
   "metadata": {},
   "outputs": [],
   "source": [
    "# Create a function\n",
    "def select_n_components(var_ratio, goal_var: float) -> int:\n",
    "    # Set initial variance explained so far\n",
    "    total_variance = 0.0\n",
    "    \n",
    "    # Set initial number of features\n",
    "    n_components = 0\n",
    "    \n",
    "    # For the explained variance of each feature:\n",
    "    for explained_variance in var_ratio:\n",
    "        \n",
    "        # Add the explained variance to the total\n",
    "        total_variance += explained_variance\n",
    "        \n",
    "        # Add one to the number of components\n",
    "        n_components += 1\n",
    "        \n",
    "        # If we reach our goal level of explained variance\n",
    "        if total_variance >= goal_var:\n",
    "            # End the loop\n",
    "            break\n",
    "            \n",
    "    # Return the number of components\n",
    "    return n_components"
   ]
  },
  {
   "cell_type": "code",
   "execution_count": 32,
   "id": "eb9398fb",
   "metadata": {},
   "outputs": [
    {
     "data": {
      "text/plain": [
       "16"
      ]
     },
     "execution_count": 32,
     "metadata": {},
     "output_type": "execute_result"
    }
   ],
   "source": [
    "select_n_components(lda_var_ratios, 0.99)"
   ]
  },
  {
   "cell_type": "code",
   "execution_count": 33,
   "id": "6c5cf130",
   "metadata": {},
   "outputs": [],
   "source": [
    "def convert_sparse_to_array(x):\n",
    "    return x.toarray()"
   ]
  },
  {
   "cell_type": "code",
   "execution_count": 34,
   "id": "96a6bd45",
   "metadata": {},
   "outputs": [],
   "source": [
    "conv_spars_2_array_fn = FunctionTransformer(convert_sparse_to_array)"
   ]
  },
  {
   "cell_type": "code",
   "execution_count": null,
   "id": "56c8ab9b",
   "metadata": {},
   "outputs": [],
   "source": []
  },
  {
   "cell_type": "code",
   "execution_count": 35,
   "id": "94033698",
   "metadata": {},
   "outputs": [],
   "source": [
    "lda_model_pipeline = Pipeline([\n",
    "    ('scaling', data_pipeline),\n",
    "    ('convert_sparse_to_array', conv_spars_2_array_fn),\n",
    "    ('lda', LinearDiscriminantAnalysis(n_components=30)),\n",
    "    ('model', LGBMRegressor(random_state=0))\n",
    "])"
   ]
  },
  {
   "cell_type": "code",
   "execution_count": 36,
   "id": "81943a5a",
   "metadata": {},
   "outputs": [
    {
     "data": {
      "text/plain": [
       "Pipeline(steps=[('scaling',\n",
       "                 ColumnTransformer(transformers=[('numerical',\n",
       "                                                  Pipeline(steps=[('std_scaler',\n",
       "                                                                   PowerTransformer())]),\n",
       "                                                  ['Engine Size(L)',\n",
       "                                                   'Fuel Consumption City '\n",
       "                                                   '(L/100 km)',\n",
       "                                                   'Fuel Consumption Hwy '\n",
       "                                                   '(L/100 km)',\n",
       "                                                   'Fuel Consumption Comb '\n",
       "                                                   '(mpg)']),\n",
       "                                                 ('categorical',\n",
       "                                                  Pipeline(steps=[('one_hot_encoder',\n",
       "                                                                   OneHotEncoder(categories=[array(['ACURA', 'ALFA ROMEO', 'ASTON MART...\n",
       "       'AV', 'AV10', 'AV6', 'AV7', 'AV8', 'M5', 'M6', 'M7'], dtype=object),\n",
       "                                                                                             array(['D', 'E', 'N', 'X', 'Z'], dtype=object)],\n",
       "                                                                                 handle_unknown='ignore'))]),\n",
       "                                                  ['Make', 'Vehicle Class',\n",
       "                                                   'Cylinders', 'Transmission',\n",
       "                                                   'Fuel Type'])])),\n",
       "                ('convert_sparse_to_array',\n",
       "                 FunctionTransformer(func=<function convert_sparse_to_array at 0x7f7cfa079940>)),\n",
       "                ('lda', LinearDiscriminantAnalysis(n_components=30)),\n",
       "                ('model', LGBMRegressor(random_state=0))])"
      ]
     },
     "execution_count": 36,
     "metadata": {},
     "output_type": "execute_result"
    }
   ],
   "source": [
    "lda_model_pipeline.fit(X_train, Y_train.values.reshape(-1, ))"
   ]
  },
  {
   "cell_type": "code",
   "execution_count": 37,
   "id": "64e9b805",
   "metadata": {},
   "outputs": [],
   "source": [
    "pred = lda_model_pipeline.predict(X_test)"
   ]
  },
  {
   "cell_type": "code",
   "execution_count": 38,
   "id": "d97228f5",
   "metadata": {},
   "outputs": [
    {
     "data": {
      "text/plain": [
       "1.8801321096470345"
      ]
     },
     "execution_count": 38,
     "metadata": {},
     "output_type": "execute_result"
    }
   ],
   "source": [
    "mean_absolute_error(Y_test.values.reshape(-1, ), pred)"
   ]
  },
  {
   "cell_type": "code",
   "execution_count": 39,
   "id": "94bc1b65",
   "metadata": {},
   "outputs": [],
   "source": [
    "import joblib"
   ]
  },
  {
   "cell_type": "code",
   "execution_count": 40,
   "id": "052beef1",
   "metadata": {},
   "outputs": [
    {
     "data": {
      "text/plain": [
       "['../artefacts/lda_model_pipeline.pkl']"
      ]
     },
     "execution_count": 40,
     "metadata": {},
     "output_type": "execute_result"
    }
   ],
   "source": [
    "joblib.dump(lda_model_pipeline, r'../artefacts/lda_model_pipeline.pkl')"
   ]
  },
  {
   "cell_type": "code",
   "execution_count": 42,
   "id": "73c72833",
   "metadata": {},
   "outputs": [
    {
     "data": {
      "text/plain": [
       "array([240.35853866])"
      ]
     },
     "execution_count": 42,
     "metadata": {},
     "output_type": "execute_result"
    }
   ],
   "source": [
    "lda_model_pipeline.predict(X_test.iloc[0:1,:])"
   ]
  },
  {
   "cell_type": "code",
   "execution_count": 45,
   "id": "01cb1b6c",
   "metadata": {},
   "outputs": [
    {
     "data": {
      "text/plain": [
       "numpy.ndarray"
      ]
     },
     "execution_count": 45,
     "metadata": {},
     "output_type": "execute_result"
    }
   ],
   "source": [
    "type(X_test.iloc[0:1,:].values)"
   ]
  },
  {
   "cell_type": "code",
   "execution_count": null,
   "id": "e7fe3881",
   "metadata": {},
   "outputs": [],
   "source": []
  }
 ],
 "metadata": {
  "kernelspec": {
   "display_name": "Python 3 (ipykernel)",
   "language": "python",
   "name": "python3"
  },
  "language_info": {
   "codemirror_mode": {
    "name": "ipython",
    "version": 3
   },
   "file_extension": ".py",
   "mimetype": "text/x-python",
   "name": "python",
   "nbconvert_exporter": "python",
   "pygments_lexer": "ipython3",
   "version": "3.8.13"
  }
 },
 "nbformat": 4,
 "nbformat_minor": 5
}
